{
  "nbformat": 4,
  "nbformat_minor": 0,
  "metadata": {
    "colab": {
      "name": "Weekly Project CLassify Cat and Dog.ipynb",
      "provenance": [],
      "collapsed_sections": [],
      "machine_shape": "hm"
    },
    "kernelspec": {
      "name": "python3",
      "display_name": "Python 3"
    },
    "accelerator": "GPU"
  },
  "cells": [
    {
      "cell_type": "markdown",
      "metadata": {
        "id": "1SHptiOvCNXb"
      },
      "source": [
        "# Weekly Project - Cats & Dogs Classification\n",
        "\n",
        "![](https://storage.googleapis.com/kaggle-competitions/kaggle/3362/media/woof_meow.jpg)\n",
        "\n",
        "Welcome to the weekly project! Now it's the time to build your first ML application.\n",
        "\n",
        "The idea is simple: \"Cats vs Dogs\" classification. Let's build a Flask app to help user upload their image and get the result that is a cat or dog photo.\n",
        "\n",
        "You will see that not every time your model predicts correctly. Giving users a way to correct the answer if it's wrong or confirm if it's right will be very helpful to improve your model (make it smarter). \n",
        "\n",
        "Good luck, and have fun!\n",
        "\n",
        "\n",
        "LINK TO DATASET: https://www.kaggle.com/c/dogs-vs-cats/data\n"
      ]
    },
    {
      "cell_type": "code",
      "metadata": {
        "id": "csWpq1B6N4Jj",
        "outputId": "2fb3af65-6dc8-431e-dc9b-e30e8ef6d9b6",
        "colab": {
          "base_uri": "https://localhost:8080/",
          "height": 127
        }
      },
      "source": [
        "from google.colab import drive\n",
        "drive.mount('/content/drive')"
      ],
      "execution_count": null,
      "outputs": [
        {
          "output_type": "stream",
          "text": [
            "Go to this URL in a browser: https://accounts.google.com/o/oauth2/auth?client_id=947318989803-6bn6qk8qdgf4n4g3pfee6491hc0brc4i.apps.googleusercontent.com&redirect_uri=urn%3aietf%3awg%3aoauth%3a2.0%3aoob&response_type=code&scope=email%20https%3a%2f%2fwww.googleapis.com%2fauth%2fdocs.test%20https%3a%2f%2fwww.googleapis.com%2fauth%2fdrive%20https%3a%2f%2fwww.googleapis.com%2fauth%2fdrive.photos.readonly%20https%3a%2f%2fwww.googleapis.com%2fauth%2fpeopleapi.readonly\n",
            "\n",
            "Enter your authorization code:\n",
            "··········\n",
            "Mounted at /content/drive\n"
          ],
          "name": "stdout"
        }
      ]
    },
    {
      "cell_type": "code",
      "metadata": {
        "id": "5BmAOTTBLltv",
        "outputId": "3af5d47d-6d6c-4bd9-d2ba-0d77f0121ceb",
        "colab": {
          "base_uri": "https://localhost:8080/",
          "height": 73
        }
      },
      "source": [
        "#import library\n",
        "import pandas as pd\n",
        "import numpy as np\n",
        "import matplotlib.pyplot as plt\n",
        "import seaborn as sns\n",
        "import tensorflow as tf\n",
        "import os\n",
        "import pathlib\n",
        "import IPython.display as display\n",
        "import cv2\n",
        "import time\n",
        "from tensorflow.keras import Sequential\n",
        "from tensorflow.keras.layers import Conv2D,MaxPooling2D,Flatten,Dense,Dropout,Activation\n",
        "import random"
      ],
      "execution_count": null,
      "outputs": [
        {
          "output_type": "stream",
          "text": [
            "/usr/local/lib/python3.6/dist-packages/statsmodels/tools/_testing.py:19: FutureWarning: pandas.util.testing is deprecated. Use the functions in the public API at pandas.testing instead.\n",
            "  import pandas.util.testing as tm\n"
          ],
          "name": "stderr"
        }
      ]
    },
    {
      "cell_type": "code",
      "metadata": {
        "id": "PdHo3s2qZg1O"
      },
      "source": [
        "AUTOTUNE = tf.data.experimental.AUTOTUNE"
      ],
      "execution_count": null,
      "outputs": []
    },
    {
      "cell_type": "code",
      "metadata": {
        "id": "gG6ZJFVsG1kh",
        "outputId": "fc0d2dd2-5e86-4233-9ed4-2d71253eda4d",
        "colab": {
          "base_uri": "https://localhost:8080/",
          "height": 35
        }
      },
      "source": [
        "tf.__version__"
      ],
      "execution_count": null,
      "outputs": [
        {
          "output_type": "execute_result",
          "data": {
            "text/plain": [
              "'2.2.0-rc3'"
            ]
          },
          "metadata": {
            "tags": []
          },
          "execution_count": 4
        }
      ]
    },
    {
      "cell_type": "code",
      "metadata": {
        "id": "5hxEotVuSnY9",
        "outputId": "befc2004-6093-43a9-a661-74003b4a97d9",
        "colab": {
          "base_uri": "https://localhost:8080/",
          "height": 35
        }
      },
      "source": [
        "# check Pillow version number\n",
        "import PIL\n",
        "print('Pillow Version:', PIL.__version__)"
      ],
      "execution_count": null,
      "outputs": [
        {
          "output_type": "stream",
          "text": [
            "Pillow Version: 7.0.0\n"
          ],
          "name": "stdout"
        }
      ]
    },
    {
      "cell_type": "code",
      "metadata": {
        "id": "Q4RpXtQRUFTX"
      },
      "source": [
        "Learningrate = 0.001\n",
        "TRAIN_DIR = '/content/drive/My Drive/FTMLE - Tonga/Data/cat_dog/train'\n",
        "MODEL_NAME = 'Catanddog_Detect'\n",
        "Img_size = 224"
      ],
      "execution_count": null,
      "outputs": []
    },
    {
      "cell_type": "code",
      "metadata": {
        "id": "LJhTuvHY4cpw"
      },
      "source": [
        "from os import listdir\n",
        "from os.path import isfile, join"
      ],
      "execution_count": null,
      "outputs": []
    },
    {
      "cell_type": "code",
      "metadata": {
        "id": "D4QmbAtDxibn"
      },
      "source": [
        "a = os.listdir(TRAIN_DIR)\n",
        "image_paths = [os.path.join(TRAIN_DIR, f) for f in a]"
      ],
      "execution_count": null,
      "outputs": []
    },
    {
      "cell_type": "code",
      "metadata": {
        "id": "U5HNSRvr5Rlu",
        "outputId": "f06e85f1-31f6-46bd-9657-98a1f2794566",
        "colab": {
          "base_uri": "https://localhost:8080/",
          "height": 35
        }
      },
      "source": [
        "image_count = len(image_paths)\n",
        "image_count"
      ],
      "execution_count": null,
      "outputs": [
        {
          "output_type": "execute_result",
          "data": {
            "text/plain": [
              "25179"
            ]
          },
          "metadata": {
            "tags": []
          },
          "execution_count": 14
        }
      ]
    },
    {
      "cell_type": "code",
      "metadata": {
        "id": "OGV5VYFYct2p",
        "outputId": "63c377b4-f5b5-4b71-a2fc-a5bb09e9feac",
        "colab": {
          "base_uri": "https://localhost:8080/",
          "height": 197
        }
      },
      "source": [
        "image_paths[:10]"
      ],
      "execution_count": null,
      "outputs": [
        {
          "output_type": "execute_result",
          "data": {
            "text/plain": [
              "['/content/drive/My Drive/FTMLE - Tonga/Data/cat_dog/train/cat.9227.jpg',\n",
              " '/content/drive/My Drive/FTMLE - Tonga/Data/cat_dog/train/cat.9195.jpg',\n",
              " '/content/drive/My Drive/FTMLE - Tonga/Data/cat_dog/train/cat.9235.jpg',\n",
              " '/content/drive/My Drive/FTMLE - Tonga/Data/cat_dog/train/cat.9203.jpg',\n",
              " '/content/drive/My Drive/FTMLE - Tonga/Data/cat_dog/train/cat.927.jpg',\n",
              " '/content/drive/My Drive/FTMLE - Tonga/Data/cat_dog/train/cat.9244.jpg',\n",
              " '/content/drive/My Drive/FTMLE - Tonga/Data/cat_dog/train/cat.928.jpg',\n",
              " '/content/drive/My Drive/FTMLE - Tonga/Data/cat_dog/train/cat.9263.jpg',\n",
              " '/content/drive/My Drive/FTMLE - Tonga/Data/cat_dog/train/cat.9237.jpg',\n",
              " '/content/drive/My Drive/FTMLE - Tonga/Data/cat_dog/train/cat.9291.jpg']"
            ]
          },
          "metadata": {
            "tags": []
          },
          "execution_count": 16
        }
      ]
    },
    {
      "cell_type": "code",
      "metadata": {
        "id": "0fz-mNIVkD0k"
      },
      "source": [
        "import random\n",
        "all_paths = random.sample(image_paths,len(image_paths))"
      ],
      "execution_count": null,
      "outputs": []
    },
    {
      "cell_type": "code",
      "metadata": {
        "id": "O3_2mv6vkGoA"
      },
      "source": [
        "all_paths = all_paths[:25000]"
      ],
      "execution_count": null,
      "outputs": []
    },
    {
      "cell_type": "code",
      "metadata": {
        "id": "ebRg6n5B33Fk"
      },
      "source": [
        "# Preprocess an image\n",
        "def preprocess_image(image):\n",
        "    image = tf.image.decode_jpeg(image, channels=3)\n",
        "    image = tf.image.resize(image, [Img_size, Img_size])\n",
        "    image /= 255.0\n",
        "    return image\n",
        "\n",
        "# Read the image from path and preprocess\n",
        "def load_and_preprocess_image(path):\n",
        "    image = tf.io.read_file(path)\n",
        "    return preprocess_image(image)"
      ],
      "execution_count": null,
      "outputs": []
    },
    {
      "cell_type": "code",
      "metadata": {
        "id": "hPMcKjHfgyir"
      },
      "source": [
        "# get labels\n",
        "all_image_labels = [p.split(os.path.sep)[-1][0:3] for p in all_paths]"
      ],
      "execution_count": null,
      "outputs": []
    },
    {
      "cell_type": "code",
      "metadata": {
        "id": "6B-aFWtYCVN1",
        "outputId": "071b792c-7dcb-423d-f04d-7aff119e7db9",
        "colab": {
          "base_uri": "https://localhost:8080/",
          "height": 1000
        }
      },
      "source": [
        "import IPython.display as display\n",
        "\n",
        "for n in range(3):\n",
        "    image_path = random.choice(image_paths)\n",
        "    display.display(display.Image(image_path))\n",
        "    print()"
      ],
      "execution_count": null,
      "outputs": [
        {
          "output_type": "display_data",
          "data": {
            "image/jpeg": "[encoded data removed]",
            "text/plain": [
              "<IPython.core.display.Image object>"
            ]
          },
          "metadata": {
            "tags": []
          }
        },
        {
          "output_type": "stream",
          "text": [
            "\n"
          ],
          "name": "stdout"
        },
        {
          "output_type": "display_data",
          "data": {
            "image/jpeg": "[encoded data removed]",
            "text/plain": [
              "<IPython.core.display.Image object>"
            ]
          },
          "metadata": {
            "tags": []
          }
        },
        {
          "output_type": "stream",
          "text": [
            "\n"
          ],
          "name": "stdout"
        },
        {
          "output_type": "display_data",
          "data": {
            "image/jpeg": "[encoded data removed]",
            "text/plain": [
              "<IPython.core.display.Image object>"
            ]
          },
          "metadata": {
            "tags": []
          }
        },
        {
          "output_type": "stream",
          "text": [
            "\n"
          ],
          "name": "stdout"
        }
      ]
    },
    {
      "cell_type": "code",
      "metadata": {
        "id": "efzFlvT3DCoC"
      },
      "source": [
        "from sklearn.preprocessing import LabelEncoder"
      ],
      "execution_count": null,
      "outputs": []
    },
    {
      "cell_type": "code",
      "metadata": {
        "id": "jMnJuSHVDEMB"
      },
      "source": [
        "# transfer name to number\n",
        "le = LabelEncoder()\n",
        "labels = le.fit_transform(all_image_labels)"
      ],
      "execution_count": null,
      "outputs": []
    },
    {
      "cell_type": "code",
      "metadata": {
        "id": "rQuojjZLhGC3"
      },
      "source": [
        "label_dataset = tf.data.Dataset.from_tensor_slices(tf.cast(labels, tf.int64))"
      ],
      "execution_count": null,
      "outputs": []
    },
    {
      "cell_type": "code",
      "metadata": {
        "id": "PBK-ZC08hho-",
        "outputId": "c668a6b5-d1dc-4eed-a569-7f989f96342c",
        "colab": {
          "base_uri": "https://localhost:8080/",
          "height": 35
        }
      },
      "source": [
        "label_dataset"
      ],
      "execution_count": null,
      "outputs": [
        {
          "output_type": "execute_result",
          "data": {
            "text/plain": [
              "<TensorSliceDataset shapes: (), types: tf.int64>"
            ]
          },
          "metadata": {
            "tags": []
          },
          "execution_count": 25
        }
      ]
    },
    {
      "cell_type": "code",
      "metadata": {
        "id": "HjGx3KuTDZQ-",
        "outputId": "fd7b39d6-8a80-4a85-b885-252292f70063",
        "colab": {
          "base_uri": "https://localhost:8080/",
          "height": 35
        }
      },
      "source": [
        "print(\"First 10 labels indices: \", labels[:10])"
      ],
      "execution_count": null,
      "outputs": [
        {
          "output_type": "stream",
          "text": [
            "First 10 labels indices:  [0 1 1 0 1 0 1 0 0 1]\n"
          ],
          "name": "stdout"
        }
      ]
    },
    {
      "cell_type": "code",
      "metadata": {
        "id": "tscimRo25s2o"
      },
      "source": [
        "# Create dataset from image paths\n",
        "path_dataset = tf.data.Dataset.from_tensor_slices(all_paths)\n"
      ],
      "execution_count": null,
      "outputs": []
    },
    {
      "cell_type": "code",
      "metadata": {
        "id": "KA20rxPHhuFL"
      },
      "source": [
        "# Create image dataset from path dataset\n",
        "image_dataset = path_dataset.map(load_and_preprocess_image, num_parallel_calls=AUTOTUNE)"
      ],
      "execution_count": null,
      "outputs": []
    },
    {
      "cell_type": "code",
      "metadata": {
        "id": "g6ugMlfygnGI",
        "outputId": "5868cd4b-a37c-4f88-b4ad-6cbf14cbee71",
        "colab": {
          "base_uri": "https://localhost:8080/",
          "height": 35
        }
      },
      "source": [
        "path_dataset"
      ],
      "execution_count": null,
      "outputs": [
        {
          "output_type": "execute_result",
          "data": {
            "text/plain": [
              "<TensorSliceDataset shapes: (), types: tf.string>"
            ]
          },
          "metadata": {
            "tags": []
          },
          "execution_count": 29
        }
      ]
    },
    {
      "cell_type": "code",
      "metadata": {
        "id": "SD3TSbi6fmI7"
      },
      "source": [
        "# Combine image dataset and image label dataset\n",
        "dataset = tf.data.Dataset.zip((image_dataset, label_dataset))"
      ],
      "execution_count": null,
      "outputs": []
    },
    {
      "cell_type": "code",
      "metadata": {
        "id": "Q0UMC1RR51kr"
      },
      "source": [
        "# Split train, test and validation set\n",
        "DATASET_SIZE = 25000\n",
        "BATCH_SIZE = 128\n",
        "SHUFFLE_BUFFER_SIZE = 4096\n",
        "\n",
        "train_size = int(0.7 * DATASET_SIZE)\n",
        "val_size = int(0.15 * DATASET_SIZE)\n",
        "test_size = int(0.15 * DATASET_SIZE)\n",
        "\n",
        "dataset = dataset.shuffle(buffer_size = SHUFFLE_BUFFER_SIZE)\n",
        "train_dataset = dataset.take(train_size)\n",
        "test_dataset = dataset.skip(train_size)\n",
        "val_dataset = test_dataset.skip(val_size)\n",
        "test_dataset = test_dataset.take(test_size)"
      ],
      "execution_count": null,
      "outputs": []
    },
    {
      "cell_type": "code",
      "metadata": {
        "id": "lkEhFuYT54js"
      },
      "source": [
        "# Perform mini-batch in train_dataset and test_dataset\n",
        "train_dataset = train_dataset.shuffle(SHUFFLE_BUFFER_SIZE).batch(BATCH_SIZE, drop_remainder=True)\n",
        "test_dataset = test_dataset.batch(BATCH_SIZE, drop_remainder=True)\n",
        "val_dataset = val_dataset.batch(BATCH_SIZE, drop_remainder=True)"
      ],
      "execution_count": null,
      "outputs": []
    },
    {
      "cell_type": "code",
      "metadata": {
        "id": "_KLNx-8H58ot",
        "outputId": "14740be6-7f24-4523-ca8f-ec9a0a1efbd8",
        "colab": {
          "base_uri": "https://localhost:8080/",
          "height": 73
        }
      },
      "source": [
        "# Define model\n",
        "def define_model():\n",
        "    # load model\n",
        "    model = tf.keras.applications.Xception(include_top=False, input_shape=(224, 224, 3))\n",
        "    # mark loaded layers as not trainable\n",
        "    for layer in model.layers:\n",
        "        layer.trainable = False\n",
        "    # add new classifier layers\n",
        "    flat1 = Flatten()(model.layers[-1].output)\n",
        "    class1 = Dense(128, activation='relu', kernel_initializer='he_uniform')(flat1)\n",
        "    output = Dense(1, activation='sigmoid')(class1)\n",
        "    # define new model\n",
        "    model = tf.keras.Model(inputs=model.inputs, outputs=output)\n",
        "    # compile model\n",
        "    opt = tf.keras.optimizers.RMSprop(lr=0.001, momentum=0.9)\n",
        "    model.compile(optimizer=opt, loss='binary_crossentropy', metrics=['accuracy'])\n",
        "    return model\n",
        "\n",
        "model = define_model()"
      ],
      "execution_count": null,
      "outputs": [
        {
          "output_type": "stream",
          "text": [
            "Downloading data from https://storage.googleapis.com/tensorflow/keras-applications/xception/xception_weights_tf_dim_ordering_tf_kernels_notop.h5\n",
            "83689472/83683744 [==============================] - 1s 0us/step\n"
          ],
          "name": "stdout"
        }
      ]
    },
    {
      "cell_type": "code",
      "metadata": {
        "id": "_MaNqjGR5_47",
        "outputId": "64098949-7d76-4f48-c523-7b92f7febe6a",
        "colab": {
          "base_uri": "https://localhost:8080/",
          "height": 397
        }
      },
      "source": [
        "# Train model\n",
        "model_history = model.fit(train_dataset, epochs = 10, validation_data = val_dataset)"
      ],
      "execution_count": null,
      "outputs": [
        {
          "output_type": "stream",
          "text": [
            "Epoch 1/10\n",
            "136/136 [==============================] - 2305s 17s/step - loss: 1.9466 - accuracy: 0.9753 - val_loss: 1.1712 - val_accuracy: 0.9782\n",
            "Epoch 2/10\n",
            "136/136 [==============================] - 327s 2s/step - loss: 0.2069 - accuracy: 0.9866 - val_loss: 0.0381 - val_accuracy: 0.9890\n",
            "Epoch 3/10\n",
            "136/136 [==============================] - 329s 2s/step - loss: 0.0329 - accuracy: 0.9928 - val_loss: 0.0512 - val_accuracy: 0.9871\n",
            "Epoch 4/10\n",
            "136/136 [==============================] - 325s 2s/step - loss: 0.0320 - accuracy: 0.9936 - val_loss: 0.0841 - val_accuracy: 0.9841\n",
            "Epoch 5/10\n",
            "136/136 [==============================] - 327s 2s/step - loss: 0.0264 - accuracy: 0.9937 - val_loss: 0.0418 - val_accuracy: 0.9884\n",
            "Epoch 6/10\n",
            "136/136 [==============================] - 328s 2s/step - loss: 0.0162 - accuracy: 0.9952 - val_loss: 0.0548 - val_accuracy: 0.9895\n",
            "Epoch 7/10\n",
            "136/136 [==============================] - 326s 2s/step - loss: 0.0136 - accuracy: 0.9965 - val_loss: 0.0345 - val_accuracy: 0.9911\n",
            "Epoch 8/10\n",
            "136/136 [==============================] - 330s 2s/step - loss: 0.0083 - accuracy: 0.9964 - val_loss: 0.0722 - val_accuracy: 0.9919\n",
            "Epoch 9/10\n",
            "136/136 [==============================] - 330s 2s/step - loss: 0.0077 - accuracy: 0.9976 - val_loss: 0.0660 - val_accuracy: 0.9890\n",
            "Epoch 10/10\n",
            "136/136 [==============================] - 327s 2s/step - loss: 0.0093 - accuracy: 0.9975 - val_loss: 0.0724 - val_accuracy: 0.9871\n"
          ],
          "name": "stdout"
        }
      ]
    },
    {
      "cell_type": "code",
      "metadata": {
        "id": "hk4tcfys6CAH",
        "outputId": "9ab43a6a-c251-4778-e78f-cb6f25405246",
        "colab": {
          "base_uri": "https://localhost:8080/",
          "height": 53
        }
      },
      "source": [
        "# Evaluate model\n",
        "model.evaluate(test_dataset)"
      ],
      "execution_count": null,
      "outputs": [
        {
          "output_type": "stream",
          "text": [
            "29/29 [==============================] - 46s 2s/step - loss: 0.0347 - accuracy: 0.9925\n"
          ],
          "name": "stdout"
        },
        {
          "output_type": "execute_result",
          "data": {
            "text/plain": [
              "[0.034704163670539856, 0.9924569129943848]"
            ]
          },
          "metadata": {
            "tags": []
          },
          "execution_count": 35
        }
      ]
    },
    {
      "cell_type": "code",
      "metadata": {
        "id": "UwHGFzDP6EJP"
      },
      "source": [
        "# Save model\n",
        "model.save('Catanddog_Detect.h5')"
      ],
      "execution_count": null,
      "outputs": []
    }
  ]
}